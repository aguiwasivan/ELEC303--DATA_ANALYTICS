{
 "cells": [
  {
   "cell_type": "markdown",
   "id": "e83e358f-41c2-48e6-bee6-0e1f02df7fc2",
   "metadata": {},
   "source": [
    "<h1>PALMERS PENGUIN</h1>\n",
    "<hr>\n"
   ]
  },
  {
   "cell_type": "code",
   "execution_count": 1,
   "id": "33fc219f-8a2a-4fbc-8153-9e029f7f0940",
   "metadata": {},
   "outputs": [],
   "source": [
    "import pandas as pd\n",
    "import numpy as py\n",
    "import warnings\n",
    "warnings.filterwarnings('ignore')"
   ]
  },
  {
   "cell_type": "code",
   "execution_count": 2,
   "id": "1142eb6d-92d8-46cc-bd81-3ecc2bc6105d",
   "metadata": {},
   "outputs": [],
   "source": [
    "pengu = pd.read_csv(\"penguins.csv\")"
   ]
  },
  {
   "cell_type": "code",
   "execution_count": 3,
   "id": "ab82044a-aa92-4522-8634-4b04fbc23ed9",
   "metadata": {},
   "outputs": [],
   "source": [
    "pengu[\"sex\"].fillna(\"Unknown\", inplace=True)\n",
    "pengu[\"body_mass_g\"].fillna(pengu[\"body_mass_g\"].mean(), inplace=True)\n",
    "pengu.fillna(pengu.median(numeric_only=True), inplace=True)"
   ]
  },
  {
   "cell_type": "code",
   "execution_count": 4,
   "id": "81330bf2-083d-437e-ac27-098da2c0a0c4",
   "metadata": {},
   "outputs": [
    {
     "data": {
      "text/html": [
       "<div>\n",
       "<style scoped>\n",
       "    .dataframe tbody tr th:only-of-type {\n",
       "        vertical-align: middle;\n",
       "    }\n",
       "\n",
       "    .dataframe tbody tr th {\n",
       "        vertical-align: top;\n",
       "    }\n",
       "\n",
       "    .dataframe thead th {\n",
       "        text-align: right;\n",
       "    }\n",
       "</style>\n",
       "<table border=\"1\" class=\"dataframe\">\n",
       "  <thead>\n",
       "    <tr style=\"text-align: right;\">\n",
       "      <th></th>\n",
       "      <th>bill_length_mm</th>\n",
       "      <th>bill_depth_mm</th>\n",
       "      <th>flipper_length_mm</th>\n",
       "      <th>body_mass_g</th>\n",
       "      <th>year</th>\n",
       "    </tr>\n",
       "  </thead>\n",
       "  <tbody>\n",
       "    <tr>\n",
       "      <th>count</th>\n",
       "      <td>344.000000</td>\n",
       "      <td>344.000000</td>\n",
       "      <td>344.000000</td>\n",
       "      <td>344.000000</td>\n",
       "      <td>344.000000</td>\n",
       "    </tr>\n",
       "    <tr>\n",
       "      <th>mean</th>\n",
       "      <td>43.925000</td>\n",
       "      <td>17.152035</td>\n",
       "      <td>200.892442</td>\n",
       "      <td>4201.754386</td>\n",
       "      <td>2008.029070</td>\n",
       "    </tr>\n",
       "    <tr>\n",
       "      <th>std</th>\n",
       "      <td>5.443792</td>\n",
       "      <td>1.969060</td>\n",
       "      <td>14.023826</td>\n",
       "      <td>799.613058</td>\n",
       "      <td>0.818356</td>\n",
       "    </tr>\n",
       "    <tr>\n",
       "      <th>min</th>\n",
       "      <td>32.100000</td>\n",
       "      <td>13.100000</td>\n",
       "      <td>172.000000</td>\n",
       "      <td>2700.000000</td>\n",
       "      <td>2007.000000</td>\n",
       "    </tr>\n",
       "    <tr>\n",
       "      <th>25%</th>\n",
       "      <td>39.275000</td>\n",
       "      <td>15.600000</td>\n",
       "      <td>190.000000</td>\n",
       "      <td>3550.000000</td>\n",
       "      <td>2007.000000</td>\n",
       "    </tr>\n",
       "    <tr>\n",
       "      <th>50%</th>\n",
       "      <td>44.450000</td>\n",
       "      <td>17.300000</td>\n",
       "      <td>197.000000</td>\n",
       "      <td>4050.000000</td>\n",
       "      <td>2008.000000</td>\n",
       "    </tr>\n",
       "    <tr>\n",
       "      <th>75%</th>\n",
       "      <td>48.500000</td>\n",
       "      <td>18.700000</td>\n",
       "      <td>213.000000</td>\n",
       "      <td>4750.000000</td>\n",
       "      <td>2009.000000</td>\n",
       "    </tr>\n",
       "    <tr>\n",
       "      <th>max</th>\n",
       "      <td>59.600000</td>\n",
       "      <td>21.500000</td>\n",
       "      <td>231.000000</td>\n",
       "      <td>6300.000000</td>\n",
       "      <td>2009.000000</td>\n",
       "    </tr>\n",
       "  </tbody>\n",
       "</table>\n",
       "</div>"
      ],
      "text/plain": [
       "       bill_length_mm  bill_depth_mm  flipper_length_mm  body_mass_g  \\\n",
       "count      344.000000     344.000000         344.000000   344.000000   \n",
       "mean        43.925000      17.152035         200.892442  4201.754386   \n",
       "std          5.443792       1.969060          14.023826   799.613058   \n",
       "min         32.100000      13.100000         172.000000  2700.000000   \n",
       "25%         39.275000      15.600000         190.000000  3550.000000   \n",
       "50%         44.450000      17.300000         197.000000  4050.000000   \n",
       "75%         48.500000      18.700000         213.000000  4750.000000   \n",
       "max         59.600000      21.500000         231.000000  6300.000000   \n",
       "\n",
       "              year  \n",
       "count   344.000000  \n",
       "mean   2008.029070  \n",
       "std       0.818356  \n",
       "min    2007.000000  \n",
       "25%    2007.000000  \n",
       "50%    2008.000000  \n",
       "75%    2009.000000  \n",
       "max    2009.000000  "
      ]
     },
     "execution_count": 4,
     "metadata": {},
     "output_type": "execute_result"
    }
   ],
   "source": [
    "pengu.describe()"
   ]
  },
  {
   "cell_type": "markdown",
   "id": "ac5961ed-8bfc-4fd7-9ab4-a2022de125d5",
   "metadata": {},
   "source": [
    "<h2>QUESTIONS</h2>"
   ]
  },
  {
   "cell_type": "markdown",
   "id": "86bd1cb2-b05c-4bcb-bdfa-ac29dcfc64ab",
   "metadata": {},
   "source": [
    "<h3>1. What specie has the longest average flipper length?</h3>\n"
   ]
  },
  {
   "cell_type": "code",
   "execution_count": 5,
   "id": "4623b514-3162-4901-ad78-6d5dd67dc8f5",
   "metadata": {},
   "outputs": [
    {
     "data": {
      "text/plain": [
       "species\n",
       "Adelie       152\n",
       "Gentoo       124\n",
       "Chinstrap     68\n",
       "Name: count, dtype: int64"
      ]
     },
     "execution_count": 5,
     "metadata": {},
     "output_type": "execute_result"
    }
   ],
   "source": [
    "pengu['species'].value_counts()"
   ]
  },
  {
   "cell_type": "code",
   "execution_count": 6,
   "id": "712fadd9-715a-4829-996d-3b55910c643e",
   "metadata": {},
   "outputs": [
    {
     "data": {
      "text/plain": [
       "np.float64(200.8924418604651)"
      ]
     },
     "execution_count": 6,
     "metadata": {},
     "output_type": "execute_result"
    }
   ],
   "source": [
    "pengu['flipper_length_mm'].mean()\n"
   ]
  },
  {
   "cell_type": "code",
   "execution_count": 7,
   "id": "19ed7073-5af7-42fe-a26d-a7f8fefd4dc5",
   "metadata": {},
   "outputs": [],
   "source": [
    "avg_flipper = pengu.groupby('species')['flipper_length_mm'].mean()"
   ]
  },
  {
   "cell_type": "code",
   "execution_count": 8,
   "id": "d60e8904-f6f4-43f1-b185-825ee69f2729",
   "metadata": {},
   "outputs": [
    {
     "data": {
      "text/plain": [
       "species\n",
       "Adelie       190.000000\n",
       "Chinstrap    195.823529\n",
       "Gentoo       217.024194\n",
       "Name: flipper_length_mm, dtype: float64"
      ]
     },
     "execution_count": 8,
     "metadata": {},
     "output_type": "execute_result"
    }
   ],
   "source": [
    "avg_flipper"
   ]
  },
  {
   "cell_type": "markdown",
   "id": "f6a21460-bb5f-4131-8471-ba2452dbeaf7",
   "metadata": {},
   "source": [
    "<h2>Insight No. 1</h2>\n",
    "<p>As you can see the result, Gentoo has the longest flipper lenght that has 217.186992 average flipper length.</p>\n",
    "<hr>"
   ]
  },
  {
   "cell_type": "markdown",
   "id": "66e5c75f-9d86-4b17-8835-8c8e87cd40ed",
   "metadata": {},
   "source": [
    "<h3>2. Which species has the highest average body mass per year?</h3>"
   ]
  },
  {
   "cell_type": "code",
   "execution_count": 9,
   "id": "6569b61c-59fe-4068-8365-b613d8647401",
   "metadata": {},
   "outputs": [
    {
     "data": {
      "text/html": [
       "<div>\n",
       "<style scoped>\n",
       "    .dataframe tbody tr th:only-of-type {\n",
       "        vertical-align: middle;\n",
       "    }\n",
       "\n",
       "    .dataframe tbody tr th {\n",
       "        vertical-align: top;\n",
       "    }\n",
       "\n",
       "    .dataframe thead th {\n",
       "        text-align: right;\n",
       "    }\n",
       "</style>\n",
       "<table border=\"1\" class=\"dataframe\">\n",
       "  <thead>\n",
       "    <tr style=\"text-align: right;\">\n",
       "      <th></th>\n",
       "      <th>year</th>\n",
       "      <th>species</th>\n",
       "      <th>body_mass_g</th>\n",
       "    </tr>\n",
       "  </thead>\n",
       "  <tbody>\n",
       "    <tr>\n",
       "      <th>2</th>\n",
       "      <td>2007</td>\n",
       "      <td>Gentoo</td>\n",
       "      <td>5070.588235</td>\n",
       "    </tr>\n",
       "    <tr>\n",
       "      <th>5</th>\n",
       "      <td>2008</td>\n",
       "      <td>Gentoo</td>\n",
       "      <td>5019.565217</td>\n",
       "    </tr>\n",
       "    <tr>\n",
       "      <th>8</th>\n",
       "      <td>2009</td>\n",
       "      <td>Gentoo</td>\n",
       "      <td>5119.358054</td>\n",
       "    </tr>\n",
       "  </tbody>\n",
       "</table>\n",
       "</div>"
      ],
      "text/plain": [
       "   year species  body_mass_g\n",
       "2  2007  Gentoo  5070.588235\n",
       "5  2008  Gentoo  5019.565217\n",
       "8  2009  Gentoo  5119.358054"
      ]
     },
     "execution_count": 9,
     "metadata": {},
     "output_type": "execute_result"
    }
   ],
   "source": [
    "avg_bodymass = pengu.groupby([\"year\", \"species\"])[\"body_mass_g\"].mean().reset_index()\n",
    "heaviest_species = avg_bodymass.loc[avg_bodymass.groupby(\"year\")[\"body_mass_g\"].idxmax()]\n",
    "heaviest_species"
   ]
  },
  {
   "cell_type": "markdown",
   "id": "0ea33b49-7cff-4ab5-9fbd-111de64c1b10",
   "metadata": {},
   "source": [
    "<h2>Insight No. 2</h2>\n",
    "<p>As you can see the result, Gentoo had the highest average body mass in every year.</p>\n",
    "<hr>"
   ]
  },
  {
   "cell_type": "markdown",
   "id": "07414a9e-9662-4628-a1a3-9758c182d37f",
   "metadata": {},
   "source": [
    "<h3>3. How many Adelie males in our dataset?</h3>\n"
   ]
  },
  {
   "cell_type": "code",
   "execution_count": 10,
   "id": "73014e5c-629f-47e5-8fef-fa351e9470fc",
   "metadata": {},
   "outputs": [],
   "source": [
    "males = pengu.groupby(['species', 'sex']).size()"
   ]
  },
  {
   "cell_type": "code",
   "execution_count": 11,
   "id": "e27e7547-8506-4539-b259-2dc2fe9ff67f",
   "metadata": {},
   "outputs": [
    {
     "data": {
      "text/plain": [
       "species    sex    \n",
       "Adelie     Unknown     6\n",
       "           female     73\n",
       "           male       73\n",
       "Chinstrap  female     34\n",
       "           male       34\n",
       "Gentoo     Unknown     5\n",
       "           female     58\n",
       "           male       61\n",
       "dtype: int64"
      ]
     },
     "execution_count": 11,
     "metadata": {},
     "output_type": "execute_result"
    }
   ],
   "source": [
    "males"
   ]
  },
  {
   "cell_type": "markdown",
   "id": "08573035-5503-44c1-9ff4-c67882aa05de",
   "metadata": {},
   "source": [
    "<h2>Insight No. 3</h2>\n",
    "<p>As you can see the result, we have 73 Adelie males in our dataset. </p>\n",
    "<hr>"
   ]
  },
  {
   "cell_type": "markdown",
   "id": "3b105dda-b730-41e5-8b7f-ef82f420d47d",
   "metadata": {},
   "source": [
    "<h3>4. What specie has the shortest average bill depth in our dataset?</h3>\n"
   ]
  },
  {
   "cell_type": "code",
   "execution_count": 12,
   "id": "9a5d9374-7c5a-47f2-b560-b33b562c6d24",
   "metadata": {},
   "outputs": [],
   "source": [
    "short = pengu.groupby('species')['bill_depth_mm'].mean()"
   ]
  },
  {
   "cell_type": "code",
   "execution_count": 13,
   "id": "4ed90e9c-322f-4c7a-acfe-8b9f2b963fd9",
   "metadata": {},
   "outputs": [
    {
     "data": {
      "text/plain": [
       "species\n",
       "Adelie       18.339474\n",
       "Chinstrap    18.420588\n",
       "Gentoo       15.000806\n",
       "Name: bill_depth_mm, dtype: float64"
      ]
     },
     "execution_count": 13,
     "metadata": {},
     "output_type": "execute_result"
    }
   ],
   "source": [
    "short"
   ]
  },
  {
   "cell_type": "markdown",
   "id": "dcee871d-7cf5-4d7f-8390-891072a57bed",
   "metadata": {},
   "source": [
    "<h2>Insight No. 4</h2>\n",
    "<p>As you can see the result, among all specie, Adelie has the shortest bill depth which has the average of 18.346358 mm.  </p>\n",
    "<hr>"
   ]
  },
  {
   "cell_type": "markdown",
   "id": "bed53e92-a00c-49ab-ae8f-0efea4305c1a",
   "metadata": {},
   "source": [
    "<h3>5. Is there a correlation between bill depth and flipper length?</h3>\n"
   ]
  },
  {
   "cell_type": "code",
   "execution_count": 14,
   "id": "7867a41f-b9fd-44de-8b4b-d365742185ce",
   "metadata": {},
   "outputs": [],
   "source": [
    "corr_bill_flip = pengu['bill_depth_mm'].corr(pengu['flipper_length_mm'])"
   ]
  },
  {
   "cell_type": "code",
   "execution_count": 15,
   "id": "47b2755e-5107-46ce-bfb0-bdfe2636822a",
   "metadata": {},
   "outputs": [
    {
     "data": {
      "text/plain": [
       "np.float64(-0.5838319610240155)"
      ]
     },
     "execution_count": 15,
     "metadata": {},
     "output_type": "execute_result"
    }
   ],
   "source": [
    "corr_bill_flip"
   ]
  },
  {
   "cell_type": "markdown",
   "id": "5be07d53-7658-499d-852b-02ee7dc15a28",
   "metadata": {},
   "source": [
    "<h2>Insight No. 5</h2>\n",
    "<p>As you can see, the result is -0.5838512164654122 meaning it has correlation between bill depth and flipper length   </p>\n",
    "<hr>"
   ]
  },
  {
   "cell_type": "markdown",
   "id": "7ac82df0-f797-4ba2-8769-347059162af0",
   "metadata": {},
   "source": [
    "<h3>6. What is the average bill length of Adelie penguin on Dream Island?</h3>"
   ]
  },
  {
   "cell_type": "code",
   "execution_count": 16,
   "id": "e1993a2c-ff8a-4876-b93a-09fae116030b",
   "metadata": {},
   "outputs": [
    {
     "data": {
      "text/plain": [
       "0       True\n",
       "1       True\n",
       "2       True\n",
       "3       True\n",
       "4       True\n",
       "       ...  \n",
       "339    False\n",
       "340    False\n",
       "341    False\n",
       "342    False\n",
       "343    False\n",
       "Name: species, Length: 344, dtype: bool"
      ]
     },
     "execution_count": 16,
     "metadata": {},
     "output_type": "execute_result"
    }
   ],
   "source": [
    "pengu[\"species\"] == \"Adelie\""
   ]
  },
  {
   "cell_type": "code",
   "execution_count": 17,
   "id": "ec6557b8-689d-4b2f-a857-e5b887012feb",
   "metadata": {},
   "outputs": [
    {
     "data": {
      "text/plain": [
       "30     39.5\n",
       "31     37.2\n",
       "32     39.5\n",
       "33     40.9\n",
       "34     36.4\n",
       "       ... \n",
       "339    55.8\n",
       "340    43.5\n",
       "341    49.6\n",
       "342    50.8\n",
       "343    50.2\n",
       "Name: bill_length_mm, Length: 124, dtype: float64"
      ]
     },
     "execution_count": 17,
     "metadata": {},
     "output_type": "execute_result"
    }
   ],
   "source": [
    "pengu[pengu[\"island\"] == \"Dream\"][\"bill_length_mm\"]\n"
   ]
  },
  {
   "cell_type": "code",
   "execution_count": 18,
   "id": "37759ab1-8465-4ab8-a882-70bfd1291222",
   "metadata": {},
   "outputs": [],
   "source": [
    "adelie_dream_avg = pengu[(pengu[\"species\"] == \"Adelie\") & (pengu[\"island\"] == \"Dream\")][\"bill_length_mm\"].mean()\n"
   ]
  },
  {
   "cell_type": "code",
   "execution_count": 19,
   "id": "d891550e-c094-4713-8326-ad9a910e6c52",
   "metadata": {},
   "outputs": [
    {
     "data": {
      "text/plain": [
       "np.float64(38.50178571428571)"
      ]
     },
     "execution_count": 19,
     "metadata": {},
     "output_type": "execute_result"
    }
   ],
   "source": [
    "adelie_dream_avg"
   ]
  },
  {
   "cell_type": "markdown",
   "id": "b158474f-e6aa-4158-ac32-196739a8b327",
   "metadata": {},
   "source": [
    "<h2>Insight No. 6</h2>\n",
    "<p>As you can see, the average of Adelie's bill length in Dream island is 38.50178571428571 mm. </p>\n",
    "<hr>"
   ]
  },
  {
   "cell_type": "markdown",
   "id": "f58667a8-1c33-46ff-bd7e-a61e777d80cd",
   "metadata": {},
   "source": [
    "<h3>7. How many penguins lived in Dream Island?</h3>"
   ]
  },
  {
   "cell_type": "code",
   "execution_count": 20,
   "id": "d0a1e781-07bf-4ccb-a285-8d6377fd9191",
   "metadata": {},
   "outputs": [],
   "source": [
    "dream_count = (pengu['island'] == 'Dream').sum()"
   ]
  },
  {
   "cell_type": "code",
   "execution_count": 21,
   "id": "a4766ede-449e-4630-9e93-25066d944212",
   "metadata": {},
   "outputs": [
    {
     "data": {
      "text/plain": [
       "np.int64(124)"
      ]
     },
     "execution_count": 21,
     "metadata": {},
     "output_type": "execute_result"
    }
   ],
   "source": [
    "dream_count"
   ]
  },
  {
   "cell_type": "markdown",
   "id": "865fe74c-b9d6-427b-a9a4-22d41f185b77",
   "metadata": {},
   "source": [
    "<h2>Insight No. 7</h2>\n",
    "<p>As you can see, the result shows that we have 124 penguins lived in Dream Island </p>\n",
    "<hr>"
   ]
  },
  {
   "cell_type": "markdown",
   "id": "3b4a36ca-8b14-4dcd-b2f5-e03e0dbdafd1",
   "metadata": {},
   "source": [
    "<h3>8. What is the average of bill length of Adelie penguins on Dream Island?</h3>"
   ]
  },
  {
   "cell_type": "code",
   "execution_count": 22,
   "id": "07ebfc05-295a-443e-ad15-e1565db919cb",
   "metadata": {},
   "outputs": [
    {
     "data": {
      "text/plain": [
       "0       True\n",
       "1       True\n",
       "2       True\n",
       "3       True\n",
       "4       True\n",
       "       ...  \n",
       "339    False\n",
       "340    False\n",
       "341    False\n",
       "342    False\n",
       "343    False\n",
       "Name: species, Length: 344, dtype: bool"
      ]
     },
     "execution_count": 22,
     "metadata": {},
     "output_type": "execute_result"
    }
   ],
   "source": [
    "pengu[\"species\"] == \"Adelie\""
   ]
  },
  {
   "cell_type": "code",
   "execution_count": 23,
   "id": "e28e62bd-cd05-4566-acb0-6e945ad6122a",
   "metadata": {},
   "outputs": [
    {
     "data": {
      "text/plain": [
       "0      False\n",
       "1      False\n",
       "2      False\n",
       "3      False\n",
       "4      False\n",
       "       ...  \n",
       "339     True\n",
       "340     True\n",
       "341     True\n",
       "342     True\n",
       "343     True\n",
       "Name: island, Length: 344, dtype: bool"
      ]
     },
     "execution_count": 23,
     "metadata": {},
     "output_type": "execute_result"
    }
   ],
   "source": [
    "pengu[\"island\"] == \"Dream\""
   ]
  },
  {
   "cell_type": "code",
   "execution_count": 24,
   "id": "8f8e830a-9b99-4b8a-8597-5f109d3e5d15",
   "metadata": {},
   "outputs": [],
   "source": [
    "ave_bill_length = pengu[(pengu[\"species\"] == \"Adelie\") & (pengu[\"island\"] == \"Dream\")][\"bill_length_mm\"].mean()"
   ]
  },
  {
   "cell_type": "code",
   "execution_count": 25,
   "id": "8b8c0a06-27e7-487f-9cc8-761754a0ab3f",
   "metadata": {},
   "outputs": [
    {
     "data": {
      "text/plain": [
       "np.float64(38.50178571428571)"
      ]
     },
     "execution_count": 25,
     "metadata": {},
     "output_type": "execute_result"
    }
   ],
   "source": [
    "ave_bill_length"
   ]
  },
  {
   "cell_type": "markdown",
   "id": "133a1379-be70-4408-b452-13163b69755f",
   "metadata": {},
   "source": [
    "<h2>Insight No. 8</h2>\n",
    "<p>As you can see, the average bill length of Adelie penguins on Dream Island is 38.519999999999996 mm. </p>\n",
    "<hr>"
   ]
  },
  {
   "cell_type": "markdown",
   "id": "2cc2619f-9e81-4e84-a88d-d17dc2beac6a",
   "metadata": {},
   "source": [
    "<h3>9. On what island has the highest average body mass?</h3>"
   ]
  },
  {
   "cell_type": "code",
   "execution_count": 26,
   "id": "7e7aae2d-4070-451b-8e4d-cb15e417c473",
   "metadata": {},
   "outputs": [],
   "source": [
    "avg_bodymass_island = pengu.groupby(\"island\")[\"body_mass_g\"].mean()"
   ]
  },
  {
   "cell_type": "code",
   "execution_count": 27,
   "id": "0067f462-3e2d-4094-874d-5656059d5ac4",
   "metadata": {},
   "outputs": [
    {
     "data": {
      "text/plain": [
       "island\n",
       "Biscoe       4712.956871\n",
       "Dream        3712.903226\n",
       "Torgersen    3715.899123\n",
       "Name: body_mass_g, dtype: float64"
      ]
     },
     "execution_count": 27,
     "metadata": {},
     "output_type": "execute_result"
    }
   ],
   "source": [
    "avg_bodymass_island"
   ]
  },
  {
   "cell_type": "markdown",
   "id": "e554ba0c-0905-4873-8ae2-f27014006504",
   "metadata": {},
   "source": [
    "<h2>Insight No. 9</h2>\n",
    "<p>As you can see, the island that has the highest average of body mass is Biscoe Island. </p>\n",
    "<hr>"
   ]
  },
  {
   "cell_type": "markdown",
   "id": "259d95b9-9cf9-4888-b474-a684a6d493b3",
   "metadata": {},
   "source": [
    "<h3>10. What is the minimum bill length per island?</h3>"
   ]
  },
  {
   "cell_type": "code",
   "execution_count": 28,
   "id": "4db5c67b-a5ce-4b1b-af92-2d31055816e5",
   "metadata": {},
   "outputs": [],
   "source": [
    "bill_min = pengu.groupby(\"island\")[\"bill_length_mm\"].agg(\"min\")"
   ]
  },
  {
   "cell_type": "code",
   "execution_count": 29,
   "id": "42484f6f-88b1-46e9-a448-935b86c034f6",
   "metadata": {},
   "outputs": [
    {
     "data": {
      "text/plain": [
       "island\n",
       "Biscoe       34.5\n",
       "Dream        32.1\n",
       "Torgersen    33.5\n",
       "Name: bill_length_mm, dtype: float64"
      ]
     },
     "execution_count": 29,
     "metadata": {},
     "output_type": "execute_result"
    }
   ],
   "source": [
    "bill_min"
   ]
  },
  {
   "cell_type": "markdown",
   "id": "85b04a92-249b-4c09-80c8-a4f4460d7611",
   "metadata": {},
   "source": [
    "<h2>Insight No. 10</h2>\n",
    "<p>As you can see, the minimum bill length in Torgersen is 33.5, in Biscoe it is 34.5, and in Dream it is 32.1. </p>\n",
    "<hr>"
   ]
  },
  {
   "cell_type": "markdown",
   "id": "a8272041-d315-4734-a3f2-02c642806e71",
   "metadata": {},
   "source": [
    "<h3>11. Does the bill depth of penguin have a effect in their body mass?</h3>"
   ]
  },
  {
   "cell_type": "code",
   "execution_count": 30,
   "id": "bc080441-f31c-412a-b441-5dea8d35a55c",
   "metadata": {},
   "outputs": [
    {
     "data": {
      "text/plain": [
       "np.float64(-0.4719078065820587)"
      ]
     },
     "execution_count": 30,
     "metadata": {},
     "output_type": "execute_result"
    }
   ],
   "source": [
    "pengu[\"bill_depth_mm\"].corr(pengu[\"body_mass_g\"])\n"
   ]
  },
  {
   "cell_type": "markdown",
   "id": "bf7afa43-f922-4258-bad3-99626c349187",
   "metadata": {},
   "source": [
    "<h2>Insight No. 11</h2>\n",
    "<p>As you can see, the result is -0.47191562118606645, meaning the bill depth of penguin has effect in their body mass. </p>\n",
    "<hr>"
   ]
  },
  {
   "cell_type": "markdown",
   "id": "ab7ba96d-0555-4b38-8838-9f85d32af9a0",
   "metadata": {},
   "source": [
    "<h3>12. Which year (2007, 2008, 2009) recorded the most penguins?</h3>"
   ]
  },
  {
   "cell_type": "code",
   "execution_count": 31,
   "id": "b1de421a-9474-4d1e-8a3f-123c978dc1ea",
   "metadata": {},
   "outputs": [],
   "source": [
    "yr_count = pengu['year'].value_counts(ascending = False)"
   ]
  },
  {
   "cell_type": "code",
   "execution_count": 32,
   "id": "cf91efa4-b883-4028-a1d0-3b0ed841d9f5",
   "metadata": {},
   "outputs": [
    {
     "data": {
      "text/plain": [
       "year\n",
       "2009    120\n",
       "2008    114\n",
       "2007    110\n",
       "Name: count, dtype: int64"
      ]
     },
     "execution_count": 32,
     "metadata": {},
     "output_type": "execute_result"
    }
   ],
   "source": [
    "yr_count"
   ]
  },
  {
   "cell_type": "markdown",
   "id": "27f1715e-5d88-4708-a804-070f3211bc27",
   "metadata": {},
   "source": [
    "<h2>Insight No. 12</h2>\n",
    "<p>As you can see, year 2009 recorded the most penguins in our dataset. </p>\n",
    "<hr>"
   ]
  }
 ],
 "metadata": {
  "kernelspec": {
   "display_name": "Python 3 (ipykernel)",
   "language": "python",
   "name": "python3"
  },
  "language_info": {
   "codemirror_mode": {
    "name": "ipython",
    "version": 3
   },
   "file_extension": ".py",
   "mimetype": "text/x-python",
   "name": "python",
   "nbconvert_exporter": "python",
   "pygments_lexer": "ipython3",
   "version": "3.11.9"
  }
 },
 "nbformat": 4,
 "nbformat_minor": 5
}
